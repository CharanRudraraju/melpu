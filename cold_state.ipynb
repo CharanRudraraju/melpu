{
 "cells": [
  {
   "cell_type": "code",
   "execution_count": 1,
   "metadata": {},
   "outputs": [],
   "source": [
    "testing_loss = []"
   ]
  },
  {
   "cell_type": "code",
   "execution_count": 2,
   "metadata": {},
   "outputs": [
    {
     "name": "stderr",
     "output_type": "stream",
     "text": [
      "C:\\Users\\rnautiyal2\\Anaconda3\\envs\\charanfyp\\lib\\site-packages\\tqdm\\auto.py:22: TqdmWarning: IProgress not found. Please update jupyter and ipywidgets. See https://ipywidgets.readthedocs.io/en/stable/user_install.html\n",
      "  from .autonotebook import tqdm as notebook_tqdm\n",
      "100%|██████████| 644/644 [00:01<00:00, 323.29it/s]\n",
      "100%|██████████| 40/40 [11:49<00:00, 17.75s/it]\n"
     ]
    }
   ],
   "source": [
    "import os\n",
    "import torch\n",
    "import pickle\n",
    "\n",
    "from MeLU import MeLU\n",
    "from options import config\n",
    "from model_training import training\n",
    "from data_generation import generate\n",
    "from evidence_candidate import selection\n",
    "from tqdm import tqdm\n",
    "\n",
    "\n",
    "if __name__ == \"__main__\":\n",
    "    master_path= \"./ml\"\n",
    "    if not os.path.exists(\"{}/\".format(master_path)):\n",
    "        os.mkdir(\"{}/\".format(master_path))\n",
    "        # preparing dataset. It needs about 22GB of your hard disk space.\n",
    "        generate(master_path)\n",
    "\n",
    "    # training model.\n",
    "    melu = MeLU(config)\n",
    "    state = \"user_and_item_cold_state\"\n",
    "    model_filename = \"{}/models_{}.pkl\".format(master_path,state)\n",
    "    if not os.path.exists(model_filename):\n",
    "        # Load training dataset.\n",
    "        training_set_size = int(len(os.listdir(\"{}/{}\".format(master_path,state))) / 4)\n",
    "        supp_xs_s = []\n",
    "        supp_ys_s = []\n",
    "        query_xs_s = []\n",
    "        query_ys_s = []\n",
    "        for idx in tqdm(range(training_set_size)):\n",
    "            supp_xs_s.append(pickle.load(open(\"{}/{}/supp_x_{}.pkl\".format(master_path,state, idx), \"rb\")))\n",
    "            supp_ys_s.append(pickle.load(open(\"{}/{}/supp_y_{}.pkl\".format(master_path, state, idx), \"rb\")))\n",
    "            query_xs_s.append(pickle.load(open(\"{}/{}/query_x_{}.pkl\".format(master_path, state, idx), \"rb\")))\n",
    "            query_ys_s.append(pickle.load(open(\"{}/{}/query_y_{}.pkl\".format(master_path, state, idx), \"rb\")))\n",
    "        total_dataset = list(zip(supp_xs_s, supp_ys_s, query_xs_s, query_ys_s))\n",
    "        del(supp_xs_s, supp_ys_s, query_xs_s, query_ys_s)\n",
    "        history = training(melu, total_dataset, batch_size=config['batch_size'], num_epoch=config['num_epoch'], model_save=True, model_filename=model_filename)\n",
    "    else:\n",
    "        trained_state_dict = torch.load(model_filename)\n",
    "        melu.load_state_dict(trained_state_dict)\n",
    "\n"
   ]
  },
  {
   "cell_type": "code",
   "execution_count": 5,
   "metadata": {},
   "outputs": [
    {
     "name": "stdout",
     "output_type": "stream",
     "text": [
      "[13.287520170211792, 12.885660243034362, 12.422763681411743, 11.763086652755737, 10.657108640670776, 8.967741584777832, 6.559485590457916, 3.9560410618782043, 2.1706803500652314, 1.544286921620369, 1.425722736120224, 1.3627909108996392, 1.3221611946821212, 1.2847664281725883, 1.2582550063729285, 1.2361204281449318, 1.212939488887787, 1.1950696483254433, 1.1764476224780083, 1.1702468663454055, 1.1582102999091148, 1.1460864871740342, 1.1357889890670776, 1.1277162864804269, 1.1217650145292282, 1.1104034513235093, 1.1034826934337616, 1.0920632734894753, 1.0864311262965203, 1.0797490641474723, 1.0776500925421715, 1.070917969942093, 1.0649293512105942, 1.062210713326931, 1.056571763753891, 1.0540801838040352, 1.0515502959489822, 1.0483158126473426, 1.0439108610153198, 1.0397529557347298]\n"
     ]
    },
    {
     "data": {
      "text/plain": [
       "[<matplotlib.lines.Line2D at 0x23b158aac50>]"
      ]
     },
     "execution_count": 5,
     "metadata": {},
     "output_type": "execute_result"
    },
    {
     "data": {
      "image/png": "[encoded data removed]",
      "text/plain": [
       "<Figure size 432x288 with 1 Axes>"
      ]
     },
     "metadata": {
      "needs_background": "light"
     },
     "output_type": "display_data"
    }
   ],
   "source": [
    "import matplotlib.pyplot as plt\n",
    "y = list(range(len(history)))\n",
    "print(history)\n",
    "plt.plot(history,y)"
   ]
  },
  {
   "cell_type": "code",
   "execution_count": 6,
   "metadata": {},
   "outputs": [
    {
     "name": "stderr",
     "output_type": "stream",
     "text": [
      "100%|██████████| 79/79 [00:00<00:00, 312.25it/s]\n"
     ]
    }
   ],
   "source": [
    "# model_filename = \"{}/models_{}.pkl\".format(master_path,state)\n",
    "# if not os.path.exists(model_filename):\n",
    "# Load training dataset.\n",
    "testing_set_size = int(len(os.listdir(\"{}/{}\".format('testing',state))) / 4)\n",
    "supp_xs_s = []\n",
    "supp_ys_s = []\n",
    "query_xs_s = []\n",
    "query_ys_s = []\n",
    "for idx in tqdm(range(testing_set_size)):\n",
    "    supp_xs_s.append(pickle.load(open(\"{}/{}/supp_x_{}.pkl\".format('testing',state, idx), \"rb\")))\n",
    "    supp_ys_s.append(pickle.load(open(\"{}/{}/supp_y_{}.pkl\".format('testing', state, idx), \"rb\")))\n",
    "    query_xs_s.append(pickle.load(open(\"{}/{}/query_x_{}.pkl\".format('testing', state, idx), \"rb\")))\n",
    "    query_ys_s.append(pickle.load(open(\"{}/{}/query_y_{}.pkl\".format('testing', state, idx), \"rb\")))"
   ]
  },
  {
   "cell_type": "code",
   "execution_count": 7,
   "metadata": {},
   "outputs": [],
   "source": [
    "from torch.nn import functional as F\n",
    "trained_state_dict = torch.load(model_filename)\n",
    "melu.load_state_dict(trained_state_dict)\n",
    "\n",
    "final_loss = []\n",
    "for i in range(len(supp_xs_s)):\n",
    "    prediction = melu.model(supp_xs_s[i].cuda())\n",
    "    temp_loss = F.mse_loss(prediction, supp_ys_s[i].cuda().view(-1, 1))\n",
    "    final_loss.append(temp_loss.item())\n",
    "\n",
    "for j in range(len(query_xs_s)):\n",
    "    prediction = melu.model(query_xs_s[j].cuda())\n",
    "    temp_loss = F.mse_loss(prediction, query_ys_s[j].cuda().view(-1, 1))\n",
    "    final_loss.append(temp_loss.item())"
   ]
  },
  {
   "cell_type": "code",
   "execution_count": 8,
   "metadata": {},
   "outputs": [
    {
     "name": "stdout",
     "output_type": "stream",
     "text": [
      "[1.066998288224015]\n"
     ]
    },
    {
     "data": {
      "text/plain": [
       "[<matplotlib.lines.Line2D at 0x23b17775f98>]"
      ]
     },
     "execution_count": 8,
     "metadata": {},
     "output_type": "execute_result"
    },
    {
     "data": {
      "image/png": "[encoded data removed]",
      "text/plain": [
       "<Figure size 432x288 with 1 Axes>"
      ]
     },
     "metadata": {
      "needs_background": "light"
     },
     "output_type": "display_data"
    }
   ],
   "source": [
    "import numpy as np\n",
    "testing_loss.append(np.mean(final_loss))\n",
    "y = list(range(len(testing_loss)))\n",
    "print(testing_loss)\n",
    "plt.plot(testing_loss,y)"
   ]
  },
  {
   "cell_type": "code",
   "execution_count": null,
   "metadata": {},
   "outputs": [],
   "source": []
  }
 ],
 "metadata": {
  "interpreter": {
   "hash": "e59519144975e4f2b0b263ac1715da22f4b122a18ace50518bc05526b1ab231e"
  },
  "kernelspec": {
   "display_name": "Python 3.6.15 ('charanfyp')",
   "language": "python",
   "name": "python3"
  },
  "language_info": {
   "codemirror_mode": {
    "name": "ipython",
    "version": 3
   },
   "file_extension": ".py",
   "mimetype": "text/x-python",
   "name": "python",
   "nbconvert_exporter": "python",
   "pygments_lexer": "ipython3",
   "version": "3.6.15"
  },
  "orig_nbformat": 4
 },
 "nbformat": 4,
 "nbformat_minor": 2
}
