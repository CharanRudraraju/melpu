{
 "cells": [
  {
   "cell_type": "code",
   "execution_count": 14,
   "metadata": {},
   "outputs": [],
   "source": [
    "testing_loss = [1.034084714934803]"
   ]
  },
  {
   "cell_type": "code",
   "execution_count": 1,
   "metadata": {},
   "outputs": [
    {
     "name": "stderr",
     "output_type": "stream",
     "text": [
      "C:\\Users\\rnautiyal2\\Anaconda3\\envs\\charanfyp\\lib\\site-packages\\tqdm\\auto.py:22: TqdmWarning: IProgress not found. Please update jupyter and ipywidgets. See https://ipywidgets.readthedocs.io/en/stable/user_install.html\n",
      "  from .autonotebook import tqdm as notebook_tqdm\n",
      "100%|██████████| 2393/2393 [00:07<00:00, 312.18it/s]\n",
      "100%|██████████| 40/40 [20:28<00:00, 30.71s/it]\n"
     ]
    }
   ],
   "source": [
    "import os\n",
    "import torch\n",
    "import pickle\n",
    "\n",
    "from MeLU import MeLU\n",
    "from options import config\n",
    "from model_training import training\n",
    "from data_generation import generate\n",
    "from evidence_candidate import selection\n",
    "from tqdm import tqdm\n",
    "\n",
    "\n",
    "if __name__ == \"__main__\":\n",
    "    master_path= \"./ml\"\n",
    "    if not os.path.exists(\"{}/\".format(master_path)):\n",
    "        os.mkdir(\"{}/\".format(master_path))\n",
    "        # preparing dataset. It needs about 22GB of your hard disk space.\n",
    "        generate(master_path)\n",
    "\n",
    "    # training model.\n",
    "    melu = MeLU(config)\n",
    "    state = \"warm_state\"\n",
    "    model_filename = \"{}/models_{}.pkl\".format(master_path,state)\n",
    "    if not os.path.exists(model_filename):\n",
    "        # Load training dataset.\n",
    "        training_set_size = int(len(os.listdir(\"{}/{}\".format(master_path,state))) / 4)\n",
    "        supp_xs_s = []\n",
    "        supp_ys_s = []\n",
    "        query_xs_s = []\n",
    "        query_ys_s = []\n",
    "        for idx in tqdm(range(training_set_size)):\n",
    "            supp_xs_s.append(pickle.load(open(\"{}/{}/supp_x_{}.pkl\".format(master_path,state, idx), \"rb\")))\n",
    "            supp_ys_s.append(pickle.load(open(\"{}/{}/supp_y_{}.pkl\".format(master_path, state, idx), \"rb\")))\n",
    "            query_xs_s.append(pickle.load(open(\"{}/{}/query_x_{}.pkl\".format(master_path, state, idx), \"rb\")))\n",
    "            query_ys_s.append(pickle.load(open(\"{}/{}/query_y_{}.pkl\".format(master_path, state, idx), \"rb\")))\n",
    "        total_dataset = list(zip(supp_xs_s, supp_ys_s, query_xs_s, query_ys_s))\n",
    "        del(supp_xs_s, supp_ys_s, query_xs_s, query_ys_s)\n",
    "        history = training(melu, total_dataset, batch_size=config['batch_size'], num_epoch=config['num_epoch'], model_save=True, model_filename=model_filename)\n",
    "    else:\n",
    "        trained_state_dict = torch.load(model_filename)\n",
    "        melu.load_state_dict(trained_state_dict)\n",
    "\n"
   ]
  },
  {
   "cell_type": "code",
   "execution_count": 5,
   "metadata": {},
   "outputs": [
    {
     "name": "stdout",
     "output_type": "stream",
     "text": [
      "[15.04789192404523, 10.774335902809296, 2.744331348262377, 1.1073433128779366, 1.084205559836138, 1.065979686359431, 1.0496441925932096, 1.029211232726206, 1.0133191103103176, 0.9990510628527443, 0.9851462557011803, 0.9731094121132922, 0.9623292052505801, 0.9547229849252125, 0.9449432252237461, 0.941601102784176, 0.9336367309493506, 0.9296870243629353, 0.9250253530956755, 0.9210470206785522, 0.916814911685534, 0.9119486948787766, 0.9092628523807398, 0.9055765955240135, 0.9039491923063393, 0.9012053504886243, 0.8971437139799131, 0.8948530166741185, 0.8931822436767937, 0.8914932180571076, 0.8889431053360036, 0.887847023922325, 0.8859211250439586, 0.8859775146381967, 0.8838014810677343, 0.8807584823377981, 0.879267683365201, 0.8790819776938266, 0.8778767673761253, 0.876099604088188] [0, 1, 2, 3, 4, 5, 6, 7, 8, 9, 10, 11, 12, 13, 14, 15, 16, 17, 18, 19, 20, 21, 22, 23, 24, 25, 26, 27, 28, 29, 30, 31, 32, 33, 34, 35, 36, 37, 38, 39]\n"
     ]
    },
    {
     "data": {
      "text/plain": [
       "[<matplotlib.lines.Line2D at 0x24b22729438>]"
      ]
     },
     "execution_count": 5,
     "metadata": {},
     "output_type": "execute_result"
    },
    {
     "data": {
      "image/png": "[encoded data removed]",
      "text/plain": [
       "<Figure size 432x288 with 1 Axes>"
      ]
     },
     "metadata": {
      "needs_background": "light"
     },
     "output_type": "display_data"
    }
   ],
   "source": [
    "import matplotlib.pyplot as plt\n",
    "y = list(range(0,len(history)))\n",
    "print(history)\n",
    "plt.plot(history,y)"
   ]
  },
  {
   "cell_type": "code",
   "execution_count": 6,
   "metadata": {},
   "outputs": [
    {
     "name": "stderr",
     "output_type": "stream",
     "text": [
      "100%|██████████| 260/260 [00:01<00:00, 237.88it/s]\n"
     ]
    }
   ],
   "source": [
    "state = \"warm_state\"\n",
    "# model_filename = \"{}/models_{}.pkl\".format(master_path,state)\n",
    "# if not os.path.exists(model_filename):\n",
    "# Load training dataset.\n",
    "testing_set_size = int(len(os.listdir(\"{}/{}\".format('testing',state))) / 4)\n",
    "supp_xs_s = []\n",
    "supp_ys_s = []\n",
    "query_xs_s = []\n",
    "query_ys_s = []\n",
    "for idx in tqdm(range(testing_set_size)):\n",
    "    supp_xs_s.append(pickle.load(open(\"{}/{}/supp_x_{}.pkl\".format('testing',state, idx), \"rb\")))\n",
    "    supp_ys_s.append(pickle.load(open(\"{}/{}/supp_y_{}.pkl\".format('testing', state, idx), \"rb\")))\n",
    "    query_xs_s.append(pickle.load(open(\"{}/{}/query_x_{}.pkl\".format('testing', state, idx), \"rb\")))\n",
    "    query_ys_s.append(pickle.load(open(\"{}/{}/query_y_{}.pkl\".format('testing', state, idx), \"rb\")))"
   ]
  },
  {
   "cell_type": "code",
   "execution_count": 16,
   "metadata": {},
   "outputs": [],
   "source": [
    "from torch.nn import functional as F\n",
    "trained_state_dict = torch.load(model_filename)\n",
    "melu.load_state_dict(trained_state_dict)\n",
    "\n",
    "final_loss = []\n",
    "for i in range(len(supp_xs_s)):\n",
    "    prediction = melu.model(supp_xs_s[i].cuda())\n",
    "    temp_loss = F.mse_loss(prediction, supp_ys_s[i].cuda().view(-1, 1))\n",
    "    final_loss.append(temp_loss.item())\n",
    "\n",
    "for j in range(len(query_xs_s)):\n",
    "    prediction = melu.model(query_xs_s[j].cuda())\n",
    "    temp_loss = F.mse_loss(prediction, query_ys_s[j].cuda().view(-1, 1))\n",
    "    final_loss.append(temp_loss.item())\n",
    "testing_loss.append(np.mean(final_loss))"
   ]
  },
  {
   "cell_type": "code",
   "execution_count": 17,
   "metadata": {},
   "outputs": [
    {
     "name": "stdout",
     "output_type": "stream",
     "text": [
      "[1.034084714934803, 1.0145650416827545] [0, 1]\n"
     ]
    },
    {
     "data": {
      "text/plain": [
       "[<matplotlib.lines.Line2D at 0x24b43fb4ac8>]"
      ]
     },
     "execution_count": 17,
     "metadata": {},
     "output_type": "execute_result"
    },
    {
     "data": {
      "image/png": "[encoded data removed]",
      "text/plain": [
       "<Figure size 432x288 with 1 Axes>"
      ]
     },
     "metadata": {
      "needs_background": "light"
     },
     "output_type": "display_data"
    }
   ],
   "source": [
    "import numpy as np\n",
    "y = list(range(len(testing_loss)))\n",
    "print(testing_loss,y)\n",
    "plt.plot(testing_loss,y)"
   ]
  },
  {
   "cell_type": "code",
   "execution_count": null,
   "metadata": {},
   "outputs": [],
   "source": [
    "\n",
    "# selecting evidence candidates.\n",
    "# evidence_candidate_list = selection(melu, master_path, config['num_candidate'])\n",
    "# for movie, score in evidence_candidate_list:\n",
    "#     print(movie, score)"
   ]
  }
 ],
 "metadata": {
  "interpreter": {
   "hash": "e59519144975e4f2b0b263ac1715da22f4b122a18ace50518bc05526b1ab231e"
  },
  "kernelspec": {
   "display_name": "Python 3.6.15 ('charanfyp')",
   "language": "python",
   "name": "python3"
  },
  "language_info": {
   "codemirror_mode": {
    "name": "ipython",
    "version": 3
   },
   "file_extension": ".py",
   "mimetype": "text/x-python",
   "name": "python",
   "nbconvert_exporter": "python",
   "pygments_lexer": "ipython3",
   "version": "3.6.15"
  },
  "orig_nbformat": 4
 },
 "nbformat": 4,
 "nbformat_minor": 2
}
