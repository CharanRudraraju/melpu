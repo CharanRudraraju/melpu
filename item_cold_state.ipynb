{
 "cells": [
  {
   "cell_type": "code",
   "execution_count": 1,
   "metadata": {},
   "outputs": [],
   "source": [
    "testing_loss = []"
   ]
  },
  {
   "cell_type": "code",
   "execution_count": 2,
   "metadata": {},
   "outputs": [
    {
     "name": "stderr",
     "output_type": "stream",
     "text": [
      "C:\\Users\\rnautiyal2\\Anaconda3\\envs\\charanfyp\\lib\\site-packages\\tqdm\\auto.py:22: TqdmWarning: IProgress not found. Please update jupyter and ipywidgets. See https://ipywidgets.readthedocs.io/en/stable/user_install.html\n",
      "  from .autonotebook import tqdm as notebook_tqdm\n",
      "100%|██████████| 2568/2568 [00:08<00:00, 300.84it/s]\n",
      "100%|██████████| 40/40 [21:31<00:00, 32.30s/it]\n"
     ]
    }
   ],
   "source": [
    "import os\n",
    "import torch\n",
    "import pickle\n",
    "\n",
    "from MeLU import MeLU\n",
    "from options import config\n",
    "from model_training import training\n",
    "from data_generation import generate\n",
    "from evidence_candidate import selection\n",
    "from tqdm import tqdm\n",
    "\n",
    "\n",
    "if __name__ == \"__main__\":\n",
    "    master_path= \"./ml\"\n",
    "    if not os.path.exists(\"{}/\".format(master_path)):\n",
    "        os.mkdir(\"{}/\".format(master_path))\n",
    "        # preparing dataset. It needs about 22GB of your hard disk space.\n",
    "        generate(master_path)\n",
    "\n",
    "    # training model.\n",
    "    melu = MeLU(config)\n",
    "    state = \"item_cold_state\"\n",
    "    model_filename = \"{}/models_{}.pkl\".format(master_path,state)\n",
    "    if not os.path.exists(model_filename):\n",
    "        # Load training dataset.\n",
    "        training_set_size = int(len(os.listdir(\"{}/{}\".format(master_path,state))) / 4)\n",
    "        supp_xs_s = []\n",
    "        supp_ys_s = []\n",
    "        query_xs_s = []\n",
    "        query_ys_s = []\n",
    "        for idx in tqdm(range(training_set_size)):\n",
    "            supp_xs_s.append(pickle.load(open(\"{}/{}/supp_x_{}.pkl\".format(master_path,state, idx), \"rb\")))\n",
    "            supp_ys_s.append(pickle.load(open(\"{}/{}/supp_y_{}.pkl\".format(master_path, state, idx), \"rb\")))\n",
    "            query_xs_s.append(pickle.load(open(\"{}/{}/query_x_{}.pkl\".format(master_path, state, idx), \"rb\")))\n",
    "            query_ys_s.append(pickle.load(open(\"{}/{}/query_y_{}.pkl\".format(master_path, state, idx), \"rb\")))\n",
    "        total_dataset = list(zip(supp_xs_s, supp_ys_s, query_xs_s, query_ys_s))\n",
    "        del(supp_xs_s, supp_ys_s, query_xs_s, query_ys_s)\n",
    "        history = training(melu, total_dataset, batch_size=config['batch_size'], num_epoch=config['num_epoch'], model_save=True, model_filename=model_filename)\n",
    "    else:\n",
    "        trained_state_dict = torch.load(model_filename)\n",
    "        melu.load_state_dict(trained_state_dict)\n",
    "\n"
   ]
  },
  {
   "cell_type": "code",
   "execution_count": 3,
   "metadata": {},
   "outputs": [
    {
     "name": "stdout",
     "output_type": "stream",
     "text": [
      "[13.619757336378097, 7.035808692872524, 1.5823938943445683, 1.2690561439841985, 1.2088384602218867, 1.1725241720676423, 1.1438503742218018, 1.1234065648168325, 1.1065169803798198, 1.095781632885337, 1.0877541534602642, 1.0800133425742389, 1.078302376717329, 1.073998537659645, 1.0721808668226003, 1.0698647685348988, 1.068270417675376, 1.0670130252838135, 1.0642500281333924, 1.0645105596631765, 1.0638954777270555, 1.063303067907691, 1.0613784175366163, 1.0611183527857064, 1.0603121336549521, 1.0613146789371968, 1.0603933963924645, 1.0593689203262329, 1.0586059406399726, 1.0575107928365468, 1.057993995025754, 1.0578010734170675, 1.058361667022109, 1.0578515619039535, 1.0564696695655584, 1.0587079521268605, 1.0578836247324943, 1.0570324212312698, 1.0560165286064147, 1.056995154172182]\n"
     ]
    },
    {
     "data": {
      "text/plain": [
       "[<matplotlib.lines.Line2D at 0x2628b790160>]"
      ]
     },
     "execution_count": 3,
     "metadata": {},
     "output_type": "execute_result"
    },
    {
     "data": {
      "image/png": "[encoded data removed]",
      "text/plain": [
       "<Figure size 432x288 with 1 Axes>"
      ]
     },
     "metadata": {
      "needs_background": "light"
     },
     "output_type": "display_data"
    }
   ],
   "source": [
    "import matplotlib.pyplot as plt\n",
    "y = list(range(len(history)))\n",
    "print(history)\n",
    "plt.plot(history,y)"
   ]
  },
  {
   "cell_type": "code",
   "execution_count": 4,
   "metadata": {},
   "outputs": [
    {
     "name": "stderr",
     "output_type": "stream",
     "text": [
      "100%|██████████| 295/295 [00:04<00:00, 68.29it/s]\n"
     ]
    }
   ],
   "source": [
    "# model_filename = \"{}/models_{}.pkl\".format(master_path,state)\n",
    "# if not os.path.exists(model_filename):\n",
    "# Load training dataset.\n",
    "testing_set_size = int(len(os.listdir(\"{}/{}\".format('testing',state))) / 4)\n",
    "supp_xs_s = []\n",
    "supp_ys_s = []\n",
    "query_xs_s = []\n",
    "query_ys_s = []\n",
    "for idx in tqdm(range(testing_set_size)):\n",
    "    supp_xs_s.append(pickle.load(open(\"{}/{}/supp_x_{}.pkl\".format('testing',state, idx), \"rb\")))\n",
    "    supp_ys_s.append(pickle.load(open(\"{}/{}/supp_y_{}.pkl\".format('testing', state, idx), \"rb\")))\n",
    "    query_xs_s.append(pickle.load(open(\"{}/{}/query_x_{}.pkl\".format('testing', state, idx), \"rb\")))\n",
    "    query_ys_s.append(pickle.load(open(\"{}/{}/query_y_{}.pkl\".format('testing', state, idx), \"rb\")))"
   ]
  },
  {
   "cell_type": "code",
   "execution_count": 5,
   "metadata": {},
   "outputs": [],
   "source": [
    "from torch.nn import functional as F\n",
    "trained_state_dict = torch.load(model_filename)\n",
    "melu.load_state_dict(trained_state_dict)\n",
    "\n",
    "final_loss = []\n",
    "for i in range(len(supp_xs_s)):\n",
    "    prediction = melu.model(supp_xs_s[i].cuda())\n",
    "    temp_loss = F.mse_loss(prediction, supp_ys_s[i].cuda().view(-1, 1))\n",
    "    final_loss.append(temp_loss.item())\n",
    "\n",
    "for j in range(len(query_xs_s)):\n",
    "    prediction = melu.model(query_xs_s[j].cuda())\n",
    "    temp_loss = F.mse_loss(prediction, query_ys_s[j].cuda().view(-1, 1))\n",
    "    final_loss.append(temp_loss.item())"
   ]
  },
  {
   "cell_type": "code",
   "execution_count": 6,
   "metadata": {},
   "outputs": [
    {
     "name": "stdout",
     "output_type": "stream",
     "text": [
      "[1.0752187800609458]\n"
     ]
    },
    {
     "data": {
      "text/plain": [
       "[<matplotlib.lines.Line2D at 0x26319e4b940>]"
      ]
     },
     "execution_count": 6,
     "metadata": {},
     "output_type": "execute_result"
    },
    {
     "data": {
      "image/png": "[encoded data removed]",
      "text/plain": [
       "<Figure size 432x288 with 1 Axes>"
      ]
     },
     "metadata": {
      "needs_background": "light"
     },
     "output_type": "display_data"
    }
   ],
   "source": [
    "import numpy as np\n",
    "testing_loss.append(np.mean(final_loss))\n",
    "y = list(range(len(testing_loss)))\n",
    "print(testing_loss)\n",
    "plt.plot(testing_loss,y)"
   ]
  },
  {
   "cell_type": "code",
   "execution_count": null,
   "metadata": {},
   "outputs": [],
   "source": []
  }
 ],
 "metadata": {
  "interpreter": {
   "hash": "e59519144975e4f2b0b263ac1715da22f4b122a18ace50518bc05526b1ab231e"
  },
  "kernelspec": {
   "display_name": "Python 3.6.15 ('charanfyp')",
   "language": "python",
   "name": "python3"
  },
  "language_info": {
   "codemirror_mode": {
    "name": "ipython",
    "version": 3
   },
   "file_extension": ".py",
   "mimetype": "text/x-python",
   "name": "python",
   "nbconvert_exporter": "python",
   "pygments_lexer": "ipython3",
   "version": "3.6.15"
  },
  "orig_nbformat": 4
 },
 "nbformat": 4,
 "nbformat_minor": 2
}
